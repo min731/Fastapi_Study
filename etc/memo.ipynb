{
 "cells": [
  {
   "cell_type": "markdown",
   "metadata": {},
   "source": [
    "### Memo"
   ]
  },
  {
   "cell_type": "code",
   "execution_count": null,
   "metadata": {},
   "outputs": [],
   "source": [
    "# 240506\n",
    "\n",
    "# Create -> POST\n",
    "# Read -> GET\n",
    "# Update -> PUT\n",
    "# Delete -> DELETE"
   ]
  }
 ],
 "metadata": {
  "language_info": {
   "name": "python"
  }
 },
 "nbformat": 4,
 "nbformat_minor": 2
}
